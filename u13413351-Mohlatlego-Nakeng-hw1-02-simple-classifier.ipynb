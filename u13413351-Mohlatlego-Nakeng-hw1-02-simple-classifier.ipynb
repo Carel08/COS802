{
 "cells": [
  {
   "cell_type": "markdown",
   "metadata": {},
   "source": [
    "Before you turn this problem in, make sure everything runs as expected. First, **restart the kernel** (in the menubar, select Kernel$\\rightarrow$Restart) and then **run all cells** (in the menubar, select Cell$\\rightarrow$Run All).\n",
    "\n",
    "Make sure you fill in any place that says `YOUR CODE HERE` or \"YOUR ANSWER HERE\", as well as your name and collaborators below:"
   ]
  },
  {
   "cell_type": "code",
   "execution_count": 1,
   "metadata": {},
   "outputs": [],
   "source": [
    "NAME = \"Mohlatlego\"\n",
    "StudentNumber = \"Nakeng\""
   ]
  },
  {
   "cell_type": "markdown",
   "metadata": {},
   "source": [
    "---"
   ]
  },
  {
   "cell_type": "markdown",
   "metadata": {
    "deletable": false,
    "editable": false,
    "nbgrader": {
     "cell_type": "markdown",
     "checksum": "b35beb2c27c8e5865ff4c5b27f8aa122",
     "grade": false,
     "grade_id": "cell-7dde6d5d97a365d1",
     "locked": true,
     "schema_version": 3,
     "solution": false
    }
   },
   "source": [
    "## COS 802 Homework 1 - Part 2\n",
    "## NLP Basics\n",
    "\n",
    "\n",
    "**You will learn how to:**\n",
    "- Extend to TFIDF\n",
    "- Split the data into train test \n",
    "- Test a logistic regression classifier\n",
    "\n",
    "**Note:** you can experiment by adding aditional cells, but they must be removed from final solution. Only the cells originally in the notebook plus the ones you have filled with your solution are required."
   ]
  },
  {
   "cell_type": "markdown",
   "metadata": {
    "deletable": false,
    "editable": false,
    "nbgrader": {
     "cell_type": "markdown",
     "checksum": "4537136d5fa5ea4b349bed67ed196887",
     "grade": false,
     "grade_id": "cell-289a4ce55ad09b5a",
     "locked": true,
     "schema_version": 3,
     "solution": false
    }
   },
   "source": [
    "## 1 Packages ##\n",
    "\n",
    "Scikit-Learn for text Analysis\n",
    "- [sklearn](https://scikit-learn.org/stable/tutorial/text_analytics/working_with_text_data.html): Scikit-Learn Working With Text Data\n",
    "- [matplotlib](http://matplotlib.org) is a library for plotting graphs in Python."
   ]
  },
  {
   "cell_type": "code",
   "execution_count": 2,
   "metadata": {},
   "outputs": [
    {
     "name": "stdout",
     "output_type": "stream",
     "text": [
      "Populating the interactive namespace from numpy and matplotlib\n"
     ]
    }
   ],
   "source": [
    "%pylab inline"
   ]
  },
  {
   "cell_type": "code",
   "execution_count": 6,
   "metadata": {
    "deletable": false,
    "editable": false,
    "nbgrader": {
     "cell_type": "code",
     "checksum": "ad5b66b3353df5cc7f6ba34b45965244",
     "grade": false,
     "grade_id": "cell-bda822d570cf9afc",
     "locked": true,
     "schema_version": 3,
     "solution": false
    }
   },
   "outputs": [],
   "source": [
    "import pandas as pd\n",
    "import numpy as np\n",
    "import os\n",
    "from sklearn.feature_extraction.text import CountVectorizer, TfidfVectorizer # Bag of Words: Term Frequencey and TFIDF\n",
    "from sklearn.model_selection import train_test_split\n",
    "from sklearn.linear_model import LogisticRegression\n",
    "from sklearn.model_selection import cross_val_score"
   ]
  },
  {
   "cell_type": "markdown",
   "metadata": {
    "deletable": false,
    "editable": false,
    "nbgrader": {
     "cell_type": "markdown",
     "checksum": "160e8442239e725b02a0abf1291baa29",
     "grade": false,
     "grade_id": "cell-52a82cff469136e8",
     "locked": true,
     "schema_version": 3,
     "solution": false
    }
   },
   "source": [
    "## Fetch the AGNews dataset from the FastAI repository\n",
    "\n",
    "Fast AI repo https://course.fast.ai/datasets\n",
    "\n",
    "> 496,835 categorized news articles from >2000 news sources from the 4 largest classes from AG’s corpus of news articles, using only the title and description fields. The number of training samples for each class is 30,000 and testing 1900."
   ]
  },
  {
   "cell_type": "code",
   "execution_count": 11,
   "metadata": {
    "deletable": false,
    "editable": false,
    "nbgrader": {
     "cell_type": "code",
     "checksum": "58f07962e65d7db22259e0fd3a027285",
     "grade": false,
     "grade_id": "cell-0f2e02a93f0e008b",
     "locked": true,
     "schema_version": 3,
     "solution": false
    }
   },
   "outputs": [],
   "source": [
    "import os\n",
    "\n",
    "if not os.path.isfile('ag_news_csv.tgz'):\n",
    "    !wget https://s3.amazonaws.com/fast-ai-nlp/ag_news_csv.tgz\n",
    "\n",
    "#U ncompress the archive\n",
    "if not os.path.isfile('ag_news_csv/train.csv'):\n",
    "    !tar -xzf ag_news_csv.tgz\n",
    "    # Lets see what is in the \n",
    "    !ls ag_news_csv/\n",
    "    # # View categories\n",
    "    !cat ag_news_csv/classes.txt"
   ]
  },
  {
   "cell_type": "markdown",
   "metadata": {},
   "source": [
    "Lets put this in a dataframe"
   ]
  },
  {
   "cell_type": "code",
   "execution_count": 12,
   "metadata": {},
   "outputs": [
    {
     "data": {
      "text/html": [
       "<div>\n",
       "<style scoped>\n",
       "    .dataframe tbody tr th:only-of-type {\n",
       "        vertical-align: middle;\n",
       "    }\n",
       "\n",
       "    .dataframe tbody tr th {\n",
       "        vertical-align: top;\n",
       "    }\n",
       "\n",
       "    .dataframe thead th {\n",
       "        text-align: right;\n",
       "    }\n",
       "</style>\n",
       "<table border=\"1\" class=\"dataframe\">\n",
       "  <thead>\n",
       "    <tr style=\"text-align: right;\">\n",
       "      <th></th>\n",
       "      <th>category</th>\n",
       "      <th>title</th>\n",
       "      <th>text</th>\n",
       "    </tr>\n",
       "  </thead>\n",
       "  <tbody>\n",
       "    <tr>\n",
       "      <th>0</th>\n",
       "      <td>3</td>\n",
       "      <td>Wall St. Bears Claw Back Into the Black (Reuters)</td>\n",
       "      <td>Reuters - Short-sellers, Wall Street's dwindli...</td>\n",
       "    </tr>\n",
       "    <tr>\n",
       "      <th>1</th>\n",
       "      <td>3</td>\n",
       "      <td>Carlyle Looks Toward Commercial Aerospace (Reu...</td>\n",
       "      <td>Reuters - Private investment firm Carlyle Grou...</td>\n",
       "    </tr>\n",
       "    <tr>\n",
       "      <th>2</th>\n",
       "      <td>3</td>\n",
       "      <td>Oil and Economy Cloud Stocks' Outlook (Reuters)</td>\n",
       "      <td>Reuters - Soaring crude prices plus worries\\ab...</td>\n",
       "    </tr>\n",
       "    <tr>\n",
       "      <th>3</th>\n",
       "      <td>3</td>\n",
       "      <td>Iraq Halts Oil Exports from Main Southern Pipe...</td>\n",
       "      <td>Reuters - Authorities have halted oil export\\f...</td>\n",
       "    </tr>\n",
       "    <tr>\n",
       "      <th>4</th>\n",
       "      <td>3</td>\n",
       "      <td>Oil prices soar to all-time record, posing new...</td>\n",
       "      <td>AFP - Tearaway world oil prices, toppling reco...</td>\n",
       "    </tr>\n",
       "  </tbody>\n",
       "</table>\n",
       "</div>"
      ],
      "text/plain": [
       "   category                                              title  \\\n",
       "0         3  Wall St. Bears Claw Back Into the Black (Reuters)   \n",
       "1         3  Carlyle Looks Toward Commercial Aerospace (Reu...   \n",
       "2         3    Oil and Economy Cloud Stocks' Outlook (Reuters)   \n",
       "3         3  Iraq Halts Oil Exports from Main Southern Pipe...   \n",
       "4         3  Oil prices soar to all-time record, posing new...   \n",
       "\n",
       "                                                text  \n",
       "0  Reuters - Short-sellers, Wall Street's dwindli...  \n",
       "1  Reuters - Private investment firm Carlyle Grou...  \n",
       "2  Reuters - Soaring crude prices plus worries\\ab...  \n",
       "3  Reuters - Authorities have halted oil export\\f...  \n",
       "4  AFP - Tearaway world oil prices, toppling reco...  "
      ]
     },
     "execution_count": 12,
     "metadata": {},
     "output_type": "execute_result"
    }
   ],
   "source": [
    "df_ag_news_train  = pd.read_csv('ag_news_csv/train.csv', header = None)\n",
    "df_ag_news_train.columns = ['category','title','text']\n",
    "df_ag_news_train.head()"
   ]
  },
  {
   "cell_type": "markdown",
   "metadata": {},
   "source": [
    "Let's see the counts per category"
   ]
  },
  {
   "cell_type": "code",
   "execution_count": 13,
   "metadata": {},
   "outputs": [
    {
     "name": "stdout",
     "output_type": "stream",
     "text": [
      "Unique classes:  [3 4 2 1]\n"
     ]
    },
    {
     "data": {
      "text/plain": [
       "<matplotlib.axes._subplots.AxesSubplot at 0x277a66a77c8>"
      ]
     },
     "execution_count": 13,
     "metadata": {},
     "output_type": "execute_result"
    },
    {
     "data": {
      "image/png": "[encoded data removed]",
      "text/plain": [
       "<Figure size 432x288 with 1 Axes>"
      ]
     },
     "metadata": {
      "needs_background": "light"
     },
     "output_type": "display_data"
    }
   ],
   "source": [
    "print(\"Unique classes: \", df_ag_news_train.category.unique())\n",
    "df_ag_news_train.category.hist()"
   ]
  },
  {
   "cell_type": "markdown",
   "metadata": {},
   "source": [
    "## Q1: Creating a training and test set\n",
    "\n",
    "Use the sklearn function [`train_test_split`](https://scikit-learn.org/stable/modules/generated/sklearn.model_selection.train_test_split.html)  to split the data into train and test. For simplicity, I have already converted the training data into a binary problem by only focusing if we can classify some text as *Business* or not. As such, instead of predicting 4 different classes, we will just classify 2."
   ]
  },
  {
   "cell_type": "code",
   "execution_count": 14,
   "metadata": {},
   "outputs": [
    {
     "name": "stdout",
     "output_type": "stream",
     "text": [
      "0    True\n",
      "1    True\n",
      "2    True\n",
      "3    True\n",
      "4    True\n",
      "5    True\n",
      "6    True\n",
      "7    True\n",
      "8    True\n",
      "9    True\n",
      "Name: category, dtype: bool\n"
     ]
    },
    {
     "data": {
      "text/plain": [
       "0    1\n",
       "1    1\n",
       "2    1\n",
       "3    1\n",
       "4    1\n",
       "5    1\n",
       "6    1\n",
       "7    1\n",
       "8    1\n",
       "9    1\n",
       "Name: category, dtype: int32"
      ]
     },
     "execution_count": 14,
     "metadata": {},
     "output_type": "execute_result"
    }
   ],
   "source": [
    "y = df_ag_news_train.category== 3 # Business\n",
    "print(y[:10])\n",
    "y =  1.0 * y # converting from True or False to Numerical value\n",
    "y = y.astype(int) # Making into an integer\n",
    "df_ag_news_train['y'] = y # Saving in the dataframe\n",
    "y[:10]"
   ]
  },
  {
   "cell_type": "code",
   "execution_count": 15,
   "metadata": {},
   "outputs": [
    {
     "data": {
      "text/html": [
       "<div>\n",
       "<style scoped>\n",
       "    .dataframe tbody tr th:only-of-type {\n",
       "        vertical-align: middle;\n",
       "    }\n",
       "\n",
       "    .dataframe tbody tr th {\n",
       "        vertical-align: top;\n",
       "    }\n",
       "\n",
       "    .dataframe thead th {\n",
       "        text-align: right;\n",
       "    }\n",
       "</style>\n",
       "<table border=\"1\" class=\"dataframe\">\n",
       "  <thead>\n",
       "    <tr style=\"text-align: right;\">\n",
       "      <th></th>\n",
       "      <th>category</th>\n",
       "      <th>title</th>\n",
       "      <th>text</th>\n",
       "      <th>y</th>\n",
       "    </tr>\n",
       "  </thead>\n",
       "  <tbody>\n",
       "    <tr>\n",
       "      <th>0</th>\n",
       "      <td>3</td>\n",
       "      <td>Wall St. Bears Claw Back Into the Black (Reuters)</td>\n",
       "      <td>Reuters - Short-sellers, Wall Street's dwindli...</td>\n",
       "      <td>1</td>\n",
       "    </tr>\n",
       "    <tr>\n",
       "      <th>1</th>\n",
       "      <td>3</td>\n",
       "      <td>Carlyle Looks Toward Commercial Aerospace (Reu...</td>\n",
       "      <td>Reuters - Private investment firm Carlyle Grou...</td>\n",
       "      <td>1</td>\n",
       "    </tr>\n",
       "    <tr>\n",
       "      <th>2</th>\n",
       "      <td>3</td>\n",
       "      <td>Oil and Economy Cloud Stocks' Outlook (Reuters)</td>\n",
       "      <td>Reuters - Soaring crude prices plus worries\\ab...</td>\n",
       "      <td>1</td>\n",
       "    </tr>\n",
       "    <tr>\n",
       "      <th>3</th>\n",
       "      <td>3</td>\n",
       "      <td>Iraq Halts Oil Exports from Main Southern Pipe...</td>\n",
       "      <td>Reuters - Authorities have halted oil export\\f...</td>\n",
       "      <td>1</td>\n",
       "    </tr>\n",
       "    <tr>\n",
       "      <th>4</th>\n",
       "      <td>3</td>\n",
       "      <td>Oil prices soar to all-time record, posing new...</td>\n",
       "      <td>AFP - Tearaway world oil prices, toppling reco...</td>\n",
       "      <td>1</td>\n",
       "    </tr>\n",
       "    <tr>\n",
       "      <th>5</th>\n",
       "      <td>3</td>\n",
       "      <td>Stocks End Up, But Near Year Lows (Reuters)</td>\n",
       "      <td>Reuters - Stocks ended slightly higher on Frid...</td>\n",
       "      <td>1</td>\n",
       "    </tr>\n",
       "    <tr>\n",
       "      <th>6</th>\n",
       "      <td>3</td>\n",
       "      <td>Money Funds Fell in Latest Week (AP)</td>\n",
       "      <td>AP - Assets of the nation's retail money marke...</td>\n",
       "      <td>1</td>\n",
       "    </tr>\n",
       "    <tr>\n",
       "      <th>7</th>\n",
       "      <td>3</td>\n",
       "      <td>Fed minutes show dissent over inflation (USATO...</td>\n",
       "      <td>USATODAY.com - Retail sales bounced back a bit...</td>\n",
       "      <td>1</td>\n",
       "    </tr>\n",
       "    <tr>\n",
       "      <th>8</th>\n",
       "      <td>3</td>\n",
       "      <td>Safety Net (Forbes.com)</td>\n",
       "      <td>Forbes.com - After earning a PH.D. in Sociolog...</td>\n",
       "      <td>1</td>\n",
       "    </tr>\n",
       "    <tr>\n",
       "      <th>9</th>\n",
       "      <td>3</td>\n",
       "      <td>Wall St. Bears Claw Back Into the Black</td>\n",
       "      <td>NEW YORK (Reuters) - Short-sellers, Wall Stre...</td>\n",
       "      <td>1</td>\n",
       "    </tr>\n",
       "  </tbody>\n",
       "</table>\n",
       "</div>"
      ],
      "text/plain": [
       "   category                                              title  \\\n",
       "0         3  Wall St. Bears Claw Back Into the Black (Reuters)   \n",
       "1         3  Carlyle Looks Toward Commercial Aerospace (Reu...   \n",
       "2         3    Oil and Economy Cloud Stocks' Outlook (Reuters)   \n",
       "3         3  Iraq Halts Oil Exports from Main Southern Pipe...   \n",
       "4         3  Oil prices soar to all-time record, posing new...   \n",
       "5         3        Stocks End Up, But Near Year Lows (Reuters)   \n",
       "6         3               Money Funds Fell in Latest Week (AP)   \n",
       "7         3  Fed minutes show dissent over inflation (USATO...   \n",
       "8         3                            Safety Net (Forbes.com)   \n",
       "9         3            Wall St. Bears Claw Back Into the Black   \n",
       "\n",
       "                                                text  y  \n",
       "0  Reuters - Short-sellers, Wall Street's dwindli...  1  \n",
       "1  Reuters - Private investment firm Carlyle Grou...  1  \n",
       "2  Reuters - Soaring crude prices plus worries\\ab...  1  \n",
       "3  Reuters - Authorities have halted oil export\\f...  1  \n",
       "4  AFP - Tearaway world oil prices, toppling reco...  1  \n",
       "5  Reuters - Stocks ended slightly higher on Frid...  1  \n",
       "6  AP - Assets of the nation's retail money marke...  1  \n",
       "7  USATODAY.com - Retail sales bounced back a bit...  1  \n",
       "8  Forbes.com - After earning a PH.D. in Sociolog...  1  \n",
       "9   NEW YORK (Reuters) - Short-sellers, Wall Stre...  1  "
      ]
     },
     "execution_count": 15,
     "metadata": {},
     "output_type": "execute_result"
    }
   ],
   "source": [
    "df_ag_news_train.head(10)"
   ]
  },
  {
   "cell_type": "markdown",
   "metadata": {},
   "source": [
    "Use the **df_agnews_train.text** and **df_ag_news_train.y** to create a text_train, text_test, y_train and y_test via the [`train_test_split`](https://scikit-learn.org/stable/modules/generated/sklearn.model_selection.train_test_split.html) function. The test_size should be 30% (0.3)"
   ]
  },
  {
   "cell_type": "code",
   "execution_count": null,
   "metadata": {
    "deletable": false,
    "nbgrader": {
     "cell_type": "code",
     "checksum": "3fe3de99333a86ffbe694e4808c366b0",
     "grade": false,
     "grade_id": "train_test_split_ans",
     "locked": false,
     "schema_version": 3,
     "solution": true
    }
   },
   "outputs": [],
   "source": [
    "# YOUR CODE HERE\n",
    "raise NotImplementedError()"
   ]
  },
  {
   "cell_type": "code",
   "execution_count": null,
   "metadata": {
    "deletable": false,
    "editable": false,
    "nbgrader": {
     "cell_type": "code",
     "checksum": "ef60a2045958cd8b77dddc27a396da7b",
     "grade": true,
     "grade_id": "train_test_split_test",
     "locked": true,
     "points": 3,
     "schema_version": 3,
     "solution": false
    }
   },
   "outputs": [],
   "source": [
    "assert (0.3 - len(y_test)/len(df_ag_news_train.y)) < 0.0001"
   ]
  },
  {
   "cell_type": "markdown",
   "metadata": {},
   "source": [
    "## Q2: Binary Classifier for TFIDF and Word-Frequency\n",
    "\n",
    "In this section, you will test out different classifiers. "
   ]
  },
  {
   "cell_type": "code",
   "execution_count": null,
   "metadata": {
    "deletable": false,
    "editable": false,
    "nbgrader": {
     "cell_type": "code",
     "checksum": "a2c89edae089504aef39bf13a440f3ea",
     "grade": false,
     "grade_id": "vectorizers",
     "locked": true,
     "schema_version": 3,
     "solution": false
    }
   },
   "outputs": [],
   "source": [
    "def initialise_term_frequency_vectorizer(data):\n",
    "    vectorizer_tf = CountVectorizer()\n",
    "    vectorizer_tf.fit(data)\n",
    "    X = vectorizer_tf.transform(data)\n",
    "    return X, vectorizer_tf\n",
    "\n",
    "def initialise_tfidf_vectorizer(data):\n",
    "    vectorizer_tfidf = TfidfVectorizer()\n",
    "    vectorizer_tfidf.fit(data)\n",
    "    X = vectorizer_tfidf.transform(data)\n",
    "    return X, vectorizer_tfidf"
   ]
  },
  {
   "cell_type": "code",
   "execution_count": null,
   "metadata": {
    "deletable": false,
    "editable": false,
    "nbgrader": {
     "cell_type": "code",
     "checksum": "7276b4dd00317eb67c7a48bc08671d1c",
     "grade": false,
     "grade_id": "count_vectorizer_test",
     "locked": true,
     "schema_version": 3,
     "solution": false
    }
   },
   "outputs": [],
   "source": [
    "\"\"\"Check that squares returns the correct output for several inputs\"\"\"\n",
    "X_train, vectorizer_tf = initialise_term_frequency_vectorizer(text_train)\n",
    "X_train_tfidf, vectorizer_tfidf = initialise_tfidf_vectorizer(text_train)"
   ]
  },
  {
   "cell_type": "code",
   "execution_count": null,
   "metadata": {
    "deletable": false,
    "editable": false,
    "nbgrader": {
     "cell_type": "code",
     "checksum": "dc3f62f3fa8632b468995f56242e5681",
     "grade": false,
     "grade_id": "cell-a5193fc36c133b9e",
     "locked": true,
     "schema_version": 3,
     "solution": false
    }
   },
   "outputs": [],
   "source": [
    "X_train.shape"
   ]
  },
  {
   "cell_type": "code",
   "execution_count": null,
   "metadata": {
    "deletable": false,
    "editable": false,
    "nbgrader": {
     "cell_type": "code",
     "checksum": "d41e0b290427c81dd1c0b922cd26136f",
     "grade": false,
     "grade_id": "cell-733c17c6fc8c0508",
     "locked": true,
     "schema_version": 3,
     "solution": false
    }
   },
   "outputs": [],
   "source": [
    "X_train_tfidf.shape"
   ]
  },
  {
   "cell_type": "markdown",
   "metadata": {
    "deletable": false,
    "editable": false,
    "nbgrader": {
     "cell_type": "markdown",
     "checksum": "e82dbdca997f150cd1d1ea644f489154",
     "grade": false,
     "grade_id": "cell-332b004b775a9253",
     "locked": true,
     "schema_version": 3,
     "solution": false
    }
   },
   "source": [
    "Now lets start working on the classifiers. First, let us get a baseline, what is the accuracy to beat. "
   ]
  },
  {
   "cell_type": "code",
   "execution_count": null,
   "metadata": {},
   "outputs": [],
   "source": [
    "# Baseline \n",
    "1 - np.mean(y_train) "
   ]
  },
  {
   "cell_type": "markdown",
   "metadata": {},
   "source": [
    "###  Q2.1: Logistic regression with word frequency data\n",
    "\n",
    "Use [`cross_val_score`](https://scikit-learn.org/stable/modules/generated/sklearn.model_selection.cross_val_score.html) and [`LogisticRegression`](https://scikit-learn.org/stable/modules/generated/sklearn.linear_model.LogisticRegression.html) model to run a 5 fold cross validation. Save the scores in variable **scores** (default is accuracy) and name the classifier **clf**. Use the word frequency data, in *X_train* and *y_train*.\n",
    "\n",
    "Make sure you also use *max_iter* of 1000 for the LogisticRegression"
   ]
  },
  {
   "cell_type": "code",
   "execution_count": null,
   "metadata": {
    "deletable": false,
    "nbgrader": {
     "cell_type": "code",
     "checksum": "65767f931b228656fbb494178f239b32",
     "grade": true,
     "grade_id": "cv_dtm_ans",
     "locked": false,
     "points": 3,
     "schema_version": 3,
     "solution": true
    }
   },
   "outputs": [],
   "source": [
    "# YOUR CODE HERE\n",
    "raise NotImplementedError()\n",
    "# YOUR CODE SHOULD BE ABOVE THIS LINE\n",
    "print(\"5-fold Cross-Validation Accuracy for Word Frequency: %0.2f (+/- %0.2f)\" % (scores.mean(), scores.std() * 2))"
   ]
  },
  {
   "cell_type": "code",
   "execution_count": null,
   "metadata": {
    "deletable": false,
    "editable": false,
    "nbgrader": {
     "cell_type": "code",
     "checksum": "0a3bf3de9c564eec78fd3e475e90b190",
     "grade": true,
     "grade_id": "cv_dtm_test",
     "locked": true,
     "points": 3,
     "schema_version": 3,
     "solution": false
    }
   },
   "outputs": [],
   "source": [
    "assert len(scores) == 5\n",
    "assert scores.mean() > 0.85\n",
    "assert scores.std() < 0.01"
   ]
  },
  {
   "cell_type": "markdown",
   "metadata": {},
   "source": [
    "### Q2.2:  Logistic regression with TFIDF data\n",
    "\n",
    "Use `cross_val_score` and `LogisticRegression` model to run a 5 fold cross validation. Save the scores in variable **scores_tfidf** and name the classifier **clf**. Use the word frequency data, in *X_train_tfidf* and *y_train*.\n",
    "\n",
    "Make sure you also use *max_iter* of 1000 for the LogisticRegression"
   ]
  },
  {
   "cell_type": "code",
   "execution_count": null,
   "metadata": {
    "deletable": false,
    "nbgrader": {
     "cell_type": "code",
     "checksum": "6a1df1011b0a588f461647d223e251a8",
     "grade": true,
     "grade_id": "cv_tfidf_ans",
     "locked": false,
     "points": 2,
     "schema_version": 3,
     "solution": true
    }
   },
   "outputs": [],
   "source": [
    "# YOUR CODE HERE\n",
    "raise NotImplementedError()\n",
    "# YOUR CODE SHOULD BE ABOVE THIS LINE\n",
    "print(\"5-fold Cross-Validation Accuracy for TFIDF: %0.2f (+/- %0.2f)\" % (scores_tfidf.mean(), scores_tfidf.std() * 2))"
   ]
  },
  {
   "cell_type": "code",
   "execution_count": null,
   "metadata": {
    "deletable": false,
    "editable": false,
    "nbgrader": {
     "cell_type": "code",
     "checksum": "23ed3b2bc6dc681afa4c69204383d3aa",
     "grade": true,
     "grade_id": "cv_tfidf_test",
     "locked": true,
     "points": 2,
     "schema_version": 3,
     "solution": false
    }
   },
   "outputs": [],
   "source": [
    "assert len(scores_tfidf) == 5\n",
    "assert scores_tfidf.mean() > 0.85\n",
    "assert scores_tfidf.std() < 0.01"
   ]
  },
  {
   "cell_type": "markdown",
   "metadata": {},
   "source": [
    "### Q2.3:  Using F1 Score Instead.\n",
    "\n",
    "Change the score from accuracy to F1 for both word frequency. Look at options for `cross_val_score`. \n",
    "Make sure you also use *max_iter* of 1000 for the LogisticRegression"
   ]
  },
  {
   "cell_type": "code",
   "execution_count": null,
   "metadata": {
    "deletable": false,
    "nbgrader": {
     "cell_type": "code",
     "checksum": "dc30049cb7b5f65b354cfd99fb1219b6",
     "grade": true,
     "grade_id": "cv_f1_ans",
     "locked": false,
     "points": 2,
     "schema_version": 3,
     "solution": true
    }
   },
   "outputs": [],
   "source": [
    "# YOUR CODE HERE\n",
    "raise NotImplementedError()\n",
    "# YOUR CODE SHOULD BE ABOVE THIS LINE\n",
    "print(\"5-fold Cross-Validation F1 score for Word Frequency: %0.2f (+/- %0.2f)\" % (scores_f1.mean(), scores_f1.std() * 2))\n",
    "print(\"5-fold Cross-Validation F1 score for TFIDF: %0.2f (+/- %0.2f)\" % (scores_tfidf_f1.mean(), scores_tfidf_f1.std() * 2))"
   ]
  },
  {
   "cell_type": "code",
   "execution_count": null,
   "metadata": {
    "deletable": false,
    "editable": false,
    "nbgrader": {
     "cell_type": "code",
     "checksum": "1516abc27c510cd2c82038c6e5101666",
     "grade": true,
     "grade_id": "cv_f1_test",
     "locked": true,
     "points": 3,
     "schema_version": 3,
     "solution": false
    }
   },
   "outputs": [],
   "source": [
    "assert len(scores_f1) == 5\n",
    "assert scores_f1.mean() > 0.82\n",
    "assert scores_f1.std() < 0.02\n",
    "assert len(scores_tfidf_f1) == 5\n",
    "assert scores_tfidf_f1.mean() > 0.82\n",
    "assert scores_tfidf_f1.std() < 0.02"
   ]
  },
  {
   "cell_type": "markdown",
   "metadata": {
    "deletable": false,
    "editable": false,
    "nbgrader": {
     "cell_type": "markdown",
     "checksum": "88c33fa909c056a3caf0804ac9a92d81",
     "grade": false,
     "grade_id": "cell-5f8910ed5ca1142a",
     "locked": true,
     "schema_version": 3,
     "solution": false
    }
   },
   "source": [
    "### Q2.4: Why would we use F1 score instead of just accuracy"
   ]
  },
  {
   "cell_type": "markdown",
   "metadata": {
    "deletable": false,
    "nbgrader": {
     "cell_type": "markdown",
     "checksum": "24017f8c7f9daa811f598e2bc510ea93",
     "grade": true,
     "grade_id": "F1_discussion_ans",
     "locked": false,
     "points": 2,
     "schema_version": 3,
     "solution": true
    }
   },
   "source": [
    "YOUR ANSWER HERE"
   ]
  },
  {
   "cell_type": "markdown",
   "metadata": {
    "deletable": false,
    "editable": false,
    "nbgrader": {
     "cell_type": "markdown",
     "checksum": "5dbbc07fa096aac660d8629eb2d01e34",
     "grade": false,
     "grade_id": "cell-3ec9b7ada0120ab6",
     "locked": true,
     "schema_version": 3,
     "solution": false
    }
   },
   "source": [
    "## Now lets look at one model and how it predicts"
   ]
  },
  {
   "cell_type": "code",
   "execution_count": null,
   "metadata": {},
   "outputs": [],
   "source": [
    "test_sample = text_test.iloc[0:2]\n",
    "X_sample = vectorizer_tfidf.transform(test_sample)\n",
    "test_sample"
   ]
  },
  {
   "cell_type": "markdown",
   "metadata": {},
   "source": [
    "Now lets fit one model and see the prediction"
   ]
  },
  {
   "cell_type": "code",
   "execution_count": null,
   "metadata": {},
   "outputs": [],
   "source": [
    "clf = LogisticRegression(max_iter=1000)\n",
    "clf.fit(X_train,y_train)\n",
    "clf.predict(X_sample)"
   ]
  },
  {
   "cell_type": "markdown",
   "metadata": {},
   "source": [
    "## Q3: Can you improve the classifier?\n",
    "\n",
    "For the vectorizers, change the number of n-grams (ngram_range), size of vector (num_features) in the vectorizers to try and improve the performance. Measure the F1 and the accuracy changes (if any)"
   ]
  },
  {
   "cell_type": "code",
   "execution_count": null,
   "metadata": {},
   "outputs": [],
   "source": [
    "def initialise_term_frequency_vectorizer(data):\n",
    "    vectorizer_tf = CountVectorizer()\n",
    "    vectorizer_tf.fit(data)\n",
    "    X = vectorizer_tf.transform(data)\n",
    "    return X, vectorizer_tf\n",
    "\n",
    "def initialise_tfidf_vectorizer(data):\n",
    "    vectorizer_tfidf = TfidfVectorizer()\n",
    "    vectorizer_tfidf.fit(data)\n",
    "    X = vectorizer_tfidf.transform(data)\n",
    "    return X, vectorizer_tfidf"
   ]
  },
  {
   "cell_type": "markdown",
   "metadata": {
    "deletable": false,
    "editable": false,
    "nbgrader": {
     "cell_type": "markdown",
     "checksum": "ab2e43db48f9648d6a8106e0675fd630",
     "grade": false,
     "grade_id": "cell-7e0ebcb99589c9f6",
     "locked": true,
     "schema_version": 3,
     "solution": false
    }
   },
   "source": [
    "A 3.1 Write your code changes below and run your experiments."
   ]
  },
  {
   "cell_type": "code",
   "execution_count": null,
   "metadata": {
    "deletable": false,
    "nbgrader": {
     "cell_type": "code",
     "checksum": "0d401310251882d35c2380f75bc832ee",
     "grade": true,
     "grade_id": "experiments_ans",
     "locked": false,
     "points": 6,
     "schema_version": 3,
     "solution": true
    }
   },
   "outputs": [],
   "source": [
    "# A3.1 here.\n",
    "# YOUR CODE HERE\n",
    "raise NotImplementedError()"
   ]
  },
  {
   "cell_type": "markdown",
   "metadata": {
    "deletable": false,
    "editable": false,
    "nbgrader": {
     "cell_type": "markdown",
     "checksum": "6573277a97f0e6e69e7207c3c9e9e5c5",
     "grade": false,
     "grade_id": "cell-08a688b183438413",
     "locked": true,
     "schema_version": 3,
     "solution": false
    }
   },
   "source": [
    "### Discuss your findings\n",
    "A 3.2 Write your observations below. What do you notice in the performance, computation etc.?"
   ]
  },
  {
   "cell_type": "markdown",
   "metadata": {
    "deletable": false,
    "nbgrader": {
     "cell_type": "markdown",
     "checksum": "91341f15d7cba39a2b9da2b943df7fe4",
     "grade": true,
     "grade_id": "experiments_dicussion_ans",
     "locked": false,
     "points": 4,
     "schema_version": 3,
     "solution": true
    }
   },
   "source": [
    "#### A3.2 here.\n",
    "YOUR ANSWER HERE"
   ]
  }
 ],
 "metadata": {
  "kernelspec": {
   "display_name": "Python 3",
   "language": "python",
   "name": "python3"
  },
  "language_info": {
   "codemirror_mode": {
    "name": "ipython",
    "version": 3
   },
   "file_extension": ".py",
   "mimetype": "text/x-python",
   "name": "python",
   "nbconvert_exporter": "python",
   "pygments_lexer": "ipython3",
   "version": "3.7.4"
  }
 },
 "nbformat": 4,
 "nbformat_minor": 2
}
